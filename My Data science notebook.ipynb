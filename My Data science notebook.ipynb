{
    "cells": [
        {
            "metadata": {
                "collapsed": true
            },
            "cell_type": "markdown",
            "source": "# My Jupyter Notebook on IBM Watson Studio"
        },
        {
            "metadata": {},
            "cell_type": "markdown",
            "source": "**Eric Richardson**  \nDigital Strategist\n\n_I'm interested in data science because it is the future of work in many organizations. I'm also extrememly motivated to develop technical skills that will provide me context for future leadership roles. I'm also taking this course in order to upskill myself in advance of my new role creating dashboards and data sources with SQL and Tableau._"
        },
        {
            "metadata": {},
            "cell_type": "markdown",
            "source": "### My code below will add two numbers together, in this case 2 & 4"
        },
        {
            "metadata": {},
            "cell_type": "code",
            "source": "2+4",
            "execution_count": 7,
            "outputs": [
                {
                    "output_type": "display_data",
                    "data": {
                        "text/plain": "[1] 6",
                        "text/latex": "6",
                        "text/markdown": "6",
                        "text/html": "6"
                    },
                    "metadata": {}
                }
            ]
        },
        {
            "metadata": {},
            "cell_type": "markdown",
            "source": "# Thank you for checking out my Jupyter Notebook\n\n## Check out this photo for the following reasons:\n* It's of the cov-19 virus\n* I don't like it\n- Hopefully it will make you be a fan of social distancing!\n\n![image](https://media.npr.org/assets/img/2020/01/22/sciencesource_ss2413465-bd5e295079f203794a6d35a99a4db82fa5615d4d-s1100-c15.jpg)\n\n[Here](https://gisanddata.maps.arcgis.com/apps/opsdashboard/index.html#/bda7594740fd40299423467b48e9ecf6) is a link to a coronavirus dashboard, practice social distancing!!"
        }
    ],
    "metadata": {
        "kernelspec": {
            "name": "r",
            "display_name": "R 3.6 with Spark",
            "language": "R"
        },
        "language_info": {
            "mimetype": "text/x-r-source",
            "name": "R",
            "pygments_lexer": "r",
            "version": "3.6.0",
            "file_extension": ".r",
            "codemirror_mode": "r"
        }
    },
    "nbformat": 4,
    "nbformat_minor": 1
}